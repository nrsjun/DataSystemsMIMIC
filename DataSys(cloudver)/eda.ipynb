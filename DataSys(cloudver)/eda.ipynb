{
 "cells": [
  {
   "cell_type": "code",
   "execution_count": 1,
   "id": "443da0da",
   "metadata": {},
   "outputs": [],
   "source": [
    "import pandas as pd\n",
    "vitals = pd.read_csv('./tables/fact_vitals.csv')\n",
    "\n"
   ]
  }
 ],
 "metadata": {
  "kernelspec": {
   "display_name": "base",
   "language": "python",
   "name": "python3"
  },
  "language_info": {
   "name": "python",
   "version": "3.12.7"
  }
 },
 "nbformat": 4,
 "nbformat_minor": 5
}
